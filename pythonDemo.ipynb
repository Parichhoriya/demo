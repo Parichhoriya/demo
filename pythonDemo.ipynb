{
    "cells": [
        {
            "metadata": {},
            "cell_type": "markdown",
            "source": "# Description\nFirst demo python project on ibm watson studio"
        },
        {
            "metadata": {},
            "cell_type": "code",
            "source": "\nimport os, types\nimport pandas as pd\nfrom botocore.client import Config\nimport ibm_boto3\n\ndef __iter__(self): return 0\n\n# @hidden_cell\n# The following code accesses a file in your IBM Cloud Object Storage. It includes your credentials.\n# You might want to remove those credentials before you share the notebook.\n\nif os.environ.get('RUNTIME_ENV_LOCATION_TYPE') == 'external':\n    endpoint_15790cdb66a043b5b961af48f9e1e7f9 = 'https://s3.eu-geo.objectstorage.softlayer.net'\nelse:\n    endpoint_15790cdb66a043b5b961af48f9e1e7f9 = 'https://s3.eu-geo.objectstorage.service.networklayer.com'\n\nclient_15790cdb66a043b5b961af48f9e1e7f9 = ibm_boto3.client(service_name='s3',\n    ibm_api_key_id='PB3AVM4VDSbc4Bl-m4ro-pZqoBTjvE-_NXUeCKgtpF42',\n    ibm_auth_endpoint=\"https://iam.cloud.ibm.com/oidc/token\",\n    config=Config(signature_version='oauth'),\n    endpoint_url=endpoint_15790cdb66a043b5b961af48f9e1e7f9)\n\nbody = client_15790cdb66a043b5b961af48f9e1e7f9.get_object(Bucket='demo-donotdelete-pr-itsjlet4rmyhek',Key='mean.csv')['Body']\n# add missing __iter__ method, so pandas accepts body as file-like object\nif not hasattr(body, \"__iter__\"): body.__iter__ = types.MethodType( __iter__, body )\n\ndf_data_1 = pd.read_csv(body)\ndf_data_1.head()\n",
            "execution_count": 1,
            "outputs": [
                {
                    "output_type": "execute_result",
                    "execution_count": 1,
                    "data": {
                        "text/plain": "   Student  Overall Marks Gender    Subject\n0    Anish             97   Male    English\n1  Rishabh             83   Male    English\n2     Ajay             78   Male    Physics\n3  Abhinav             86   Male  Chemistry\n4   Anurag             91   Male    English",
                        "text/html": "<div>\n<style scoped>\n    .dataframe tbody tr th:only-of-type {\n        vertical-align: middle;\n    }\n\n    .dataframe tbody tr th {\n        vertical-align: top;\n    }\n\n    .dataframe thead th {\n        text-align: right;\n    }\n</style>\n<table border=\"1\" class=\"dataframe\">\n  <thead>\n    <tr style=\"text-align: right;\">\n      <th></th>\n      <th>Student</th>\n      <th>Overall Marks</th>\n      <th>Gender</th>\n      <th>Subject</th>\n    </tr>\n  </thead>\n  <tbody>\n    <tr>\n      <th>0</th>\n      <td>Anish</td>\n      <td>97</td>\n      <td>Male</td>\n      <td>English</td>\n    </tr>\n    <tr>\n      <th>1</th>\n      <td>Rishabh</td>\n      <td>83</td>\n      <td>Male</td>\n      <td>English</td>\n    </tr>\n    <tr>\n      <th>2</th>\n      <td>Ajay</td>\n      <td>78</td>\n      <td>Male</td>\n      <td>Physics</td>\n    </tr>\n    <tr>\n      <th>3</th>\n      <td>Abhinav</td>\n      <td>86</td>\n      <td>Male</td>\n      <td>Chemistry</td>\n    </tr>\n    <tr>\n      <th>4</th>\n      <td>Anurag</td>\n      <td>91</td>\n      <td>Male</td>\n      <td>English</td>\n    </tr>\n  </tbody>\n</table>\n</div>"
                    },
                    "metadata": {}
                }
            ]
        },
        {
            "metadata": {},
            "cell_type": "code",
            "source": "print (\"Hello World\")",
            "execution_count": 2,
            "outputs": [
                {
                    "output_type": "stream",
                    "text": "Hello World\n",
                    "name": "stdout"
                }
            ]
        },
        {
            "metadata": {},
            "cell_type": "code",
            "source": "",
            "execution_count": null,
            "outputs": []
        }
    ],
    "metadata": {
        "kernelspec": {
            "name": "python3",
            "display_name": "Python 3.7",
            "language": "python"
        },
        "language_info": {
            "name": "python",
            "version": "3.7.10",
            "mimetype": "text/x-python",
            "codemirror_mode": {
                "name": "ipython",
                "version": 3
            },
            "pygments_lexer": "ipython3",
            "nbconvert_exporter": "python",
            "file_extension": ".py"
        }
    },
    "nbformat": 4,
    "nbformat_minor": 1
}